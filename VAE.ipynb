{
  "nbformat": 4,
  "nbformat_minor": 0,
  "metadata": {
    "colab": {
      "name": "Final Submitted_VAE_31_ Dec.ipynb",
      "provenance": [],
      "collapsed_sections": []
    },
    "kernelspec": {
      "display_name": "Python 3",
      "name": "python3"
    },
    "accelerator": "GPU"
  },
  "cells": [
    {
      "cell_type": "code",
      "metadata": {
        "colab": {
          "base_uri": "https://localhost:8080/"
        },
        "id": "BTTFeMThLina",
        "outputId": "8582d9cd-c9ae-4ac4-be46-c449215926d9"
      },
      "source": [
        "from google.colab import drive\r\n",
        "drive.mount('/content/gdrive/')scr"
      ],
      "execution_count": null,
      "outputs": [
        {
          "output_type": "stream",
          "text": [
            "Mounted at /content/gdrive/\n"
          ],
          "name": "stdout"
        }
      ]
    },
    {
      "cell_type": "code",
      "metadata": {
        "id": "9GYx3DOHLscu"
      },
      "source": [
        "import os\r\n",
        "os.chdir(\"/content/gdrive/My Drive/dataset)\r\n",
        "os.getcwd()"
      ],
      "execution_count": null,
      "outputs": []
    },
    {
      "cell_type": "code",
      "metadata": {
        "id": "5njaGx07L0JE"
      },
      "source": [
        "from matplotlib import pyplot as plt\r\n",
        "import numpy as np\r\n",
        "import math\r\n",
        "\r\n",
        "import torch\r\n",
        "import torchvision\r\n",
        "from torch import nn\r\n",
        "from torch.autograd import Variable\r\n",
        "from torch.utils.data import DataLoader\r\n",
        "from torchvision import transforms\r\n",
        "import torchvision.datasets as dset\r\n",
        "from torchvision.utils import save_image\r\n",
        "import torchvision.utils as vutils\r\n",
        "from torchsummary import summary\r\n",
        "from IPython import display\r\n",
        "import torch.nn as nn\r\n",
        "import torch.nn.functional as F\r\n",
        "\r\n",
        "%matplotlib inline"
      ],
      "execution_count": null,
      "outputs": []
    },
    {
      "cell_type": "code",
      "metadata": {
        "id": "zngPnmDH-je5"
      },
      "source": [
        ""
      ],
      "execution_count": null,
      "outputs": []
    },
    {
      "cell_type": "markdown",
      "metadata": {
        "id": "oQhmW6yBUISF"
      },
      "source": [
        "Parameter Settings"
      ]
    },
    {
      "cell_type": "code",
      "metadata": {
        "id": "1Dcdk29k-ebg"
      },
      "source": [
        "\n",
        "latent_dims = 2\n",
        "num_epochs = 100\n",
        "batch_size = 128\n",
        "capacity = 64\n",
        "learning_rate = 1e-3\n",
        "variational_beta = 1\n",
        "use_gpu = True"
      ],
      "execution_count": null,
      "outputs": []
    },
    {
      "cell_type": "code",
      "metadata": {
        "id": "xPUZ1OAfDGn8"
      },
      "source": [
        "dataroot = \"./\"\n",
        "image_size = 128\n",
        "nb_channls=3\n",
        "workers=4\n",
        "test_batch_size = 2\n",
        "weight_decay = 1e-5\n",
        "\n",
        "\n",
        "\n",
        "\n",
        "device = torch.device(\"cuda:0\" if (torch.cuda.is_available()) else \"cpu\")"
      ],
      "execution_count": null,
      "outputs": []
    },
    {
      "cell_type": "markdown",
      "metadata": {
        "id": "pISpfCp0T_UI"
      },
      "source": [
        "Data Loading\n"
      ]
    },
    {
      "cell_type": "code",
      "metadata": {
        "colab": {
          "base_uri": "https://localhost:8080/"
        },
        "id": "L1nHma3x-pdb",
        "outputId": "bf6ebeff-60bc-4902-e8c6-54037439b356"
      },
      "source": [
        "# Load Dataset\n",
        "dataset = dset.ImageFolder(root=dataroot,\n",
        "                           transform=transforms.Compose([\n",
        "                               transforms.Resize((image_size, image_size)),\n",
        "                               transforms.ToTensor(),\n",
        "                               transforms.Normalize((0.5, 0.5, 0.5), (0.5, 0.5, 0.5)),\n",
        "                           ]))\n",
        "\n",
        "train_splitRatio = 0.8\n",
        "train_len = int(train_splitRatio * len(dataset))\n",
        "test_len = len(dataset) - train_len\n",
        "\n",
        "print(train_len)\n",
        "trainData, testData = torch.utils.data.random_split(dataset,[train_len, test_len])\n",
        "\n",
        "dataloader_train = torch.utils.data.DataLoader(trainData, batch_size=batch_size,\n",
        "                                         shuffle=True, num_workers=workers,drop_last=True)\n",
        "\n",
        "dataloader_test = torch.utils.data.DataLoader(testData, batch_size=test_batch_size,\n",
        "                                         shuffle=False, num_workers=workers,drop_last=True)"
      ],
      "execution_count": null,
      "outputs": [
        {
          "output_type": "stream",
          "text": [
            "5413\n"
          ],
          "name": "stdout"
        }
      ]
    },
    {
      "cell_type": "markdown",
      "metadata": {
        "id": "KL0Chi_FTxX6"
      },
      "source": [
        "VAE Definition"
      ]
    },
    {
      "cell_type": "code",
      "metadata": {
        "colab": {
          "base_uri": "https://localhost:8080/"
        },
        "id": "e0Q0lB0C-r19",
        "outputId": "921c8d29-a988-4209-9c26-6cab5208608f"
      },
      "source": [
        "class Encoder(nn.Module):\n",
        "    def __init__(self):\n",
        "        super(Encoder, self).__init__()\n",
        "        c = capacity\n",
        "        self.conv1 = nn.Conv2d(in_channels=3, out_channels=c, kernel_size=4, stride=2, padding=1) \n",
        "        #self.conv1_bn = nn.BatchNorm2d(c)\n",
        "        self.conv2 = nn.Conv2d(in_channels=c, out_channels=c*2, kernel_size=4, stride=2, padding=1)\n",
        "        #self.conv2_bn = nn.BatchNorm2d(c*2)\n",
        "        self.fc_mu = nn.Linear(in_features=c*2*32*32, out_features=latent_dims)\n",
        "        #self.fc_mu_bn = nn.BatchNorm1d(latent_dims)\n",
        "        self.fc_logvar = nn.Linear(in_features=c*2*32*32, out_features=latent_dims)\n",
        "        #self.fc_logvar_bn = nn.BatchNorm1d(latent_dims)\n",
        "            \n",
        "    def forward(self, x):\n",
        "        x = F.relu((self.conv1(x)))\n",
        "        x = F.relu((self.conv2(x)))\n",
        "        x = x.view(x.size(0), -1) # flatten batch of multi-channel feature maps to a batch of feature vectors\n",
        "        x_mu = (self.fc_mu(x))\n",
        "        x_logvar = (self.fc_logvar(x))\n",
        "        return x_mu, x_logvar\n",
        "\n",
        "class Decoder(nn.Module):\n",
        "    def __init__(self):\n",
        "        super(Decoder, self).__init__()\n",
        "        c = capacity\n",
        "        self.fc = nn.Linear(in_features=latent_dims, out_features=c*2*32*32)\n",
        "        self.conv2 = nn.ConvTranspose2d(in_channels=c*2, out_channels=c, kernel_size=4, stride=2, padding=1)\n",
        "        #self.conv2_bn = nn.BatchNorm2d(c)\n",
        "        self.conv1 = nn.ConvTranspose2d(in_channels=c, out_channels=3, kernel_size=4, stride=2, padding=1)\n",
        "        #self.conv1_bn = nn.BatchNorm2d(3)\n",
        "            \n",
        "    def forward(self, x):\n",
        "        x = self.fc(x)\n",
        "        x = x.view(x.size(0), capacity*2, 32, 32) # unflatten batch of feature vectors to a batch of multi-channel feature maps\n",
        "        x = F.relu((self.conv2(x)))\n",
        "        x = torch.sigmoid((self.conv1(x))) # last layer before output is sigmoid, since we are using BCE as reconstruction loss\n",
        "        return x\n",
        "    \n",
        "class VariationalAutoencoder(nn.Module):\n",
        "    def __init__(self):\n",
        "        super(VariationalAutoencoder, self).__init__()\n",
        "        self.encoder = Encoder()\n",
        "        self.decoder = Decoder()\n",
        "    \n",
        "    def forward(self, x):\n",
        "        latent_mu, latent_logvar = self.encoder(x)\n",
        "        latent = self.latent_sample(latent_mu, latent_logvar)\n",
        "        x_recon = self.decoder(latent)\n",
        "        return x_recon, latent_mu, latent_logvar\n",
        "    \n",
        "    def latent_sample(self, mu, logvar):\n",
        "        if self.training:\n",
        "            # the reparameterization trick\n",
        "            std = logvar.mul(0.5).exp_()\n",
        "            eps = torch.empty_like(std).normal_()\n",
        "            return eps.mul(std).add_(mu)\n",
        "        else:\n",
        "            return mu\n",
        "    \n",
        "def vae_loss(recon_x, x, mu, logvar):\n",
        "   \n",
        "    mse_loss = nn.MSELoss(reduction=\"sum\")\n",
        "    loss_MSE = mse_loss(recon_x, x)\n",
        "    \n",
        "    # KL-divergence between the prior distribution over latent vectors\n",
        "    # (the one we are going to sample from when generating new images)\n",
        "    # and the distribution estimated by the generator for the given image.\n",
        "    kldivergence = -0.5 * torch.sum(1 + logvar - mu.pow(2) - logvar.exp())\n",
        "\n",
        "    kldivergence /= batch_size\n",
        "    \n",
        "    return loss_MSE + variational_beta * kldivergence\n",
        "    \n",
        "    \n",
        "vae = VariationalAutoencoder()\n",
        "\n",
        "device = torch.device(\"cuda:0\" if use_gpu and torch.cuda.is_available() else \"cpu\")\n",
        "vae = vae.to(device)\n",
        "\n",
        "num_params = sum(p.numel() for p in vae.parameters() if p.requires_grad)\n",
        "print('Number of parameters: %d' % num_params)\n"
      ],
      "execution_count": null,
      "outputs": [
        {
          "output_type": "stream",
          "text": [
            "Number of parameters: 1186055\n"
          ],
          "name": "stdout"
        }
      ]
    },
    {
      "cell_type": "code",
      "metadata": {
        "colab": {
          "base_uri": "https://localhost:8080/"
        },
        "id": "GTkhOJHgUVPM",
        "outputId": "ae05b8db-9483-4d27-a629-06ba8c9d2354"
      },
      "source": [
        "summary(vae, (nb_channls, image_size, image_size))"
      ],
      "execution_count": null,
      "outputs": [
        {
          "output_type": "stream",
          "text": [
            "----------------------------------------------------------------\n",
            "        Layer (type)               Output Shape         Param #\n",
            "================================================================\n",
            "            Conv2d-1           [-1, 64, 64, 64]           3,136\n",
            "            Conv2d-2          [-1, 128, 32, 32]         131,200\n",
            "            Linear-3                    [-1, 2]         262,146\n",
            "            Linear-4                    [-1, 2]         262,146\n",
            "           Encoder-5         [[-1, 2], [-1, 2]]               0\n",
            "            Linear-6               [-1, 131072]         393,216\n",
            "   ConvTranspose2d-7           [-1, 64, 64, 64]         131,136\n",
            "   ConvTranspose2d-8          [-1, 3, 128, 128]           3,075\n",
            "           Decoder-9          [-1, 3, 128, 128]               0\n",
            "================================================================\n",
            "Total params: 1,186,055\n",
            "Trainable params: 1,186,055\n",
            "Non-trainable params: 0\n",
            "----------------------------------------------------------------\n",
            "Input size (MB): 0.19\n",
            "Forward/backward pass size (MB): 6.75\n",
            "Params size (MB): 4.52\n",
            "Estimated Total Size (MB): 11.46\n",
            "----------------------------------------------------------------\n"
          ],
          "name": "stdout"
        }
      ]
    },
    {
      "cell_type": "markdown",
      "metadata": {
        "id": "f9ZUHnlkT6Tu"
      },
      "source": [
        "Train VAE\n"
      ]
    },
    {
      "cell_type": "code",
      "metadata": {
        "colab": {
          "base_uri": "https://localhost:8080/"
        },
        "id": "z6x8kNjI-ttm",
        "outputId": "053085db-ab7c-4b19-82ec-57e8ec3d454a"
      },
      "source": [
        "optimizer = torch.optim.Adam(params=vae.parameters(), lr=learning_rate, weight_decay=1e-5)\n",
        "\n",
        "# set to training mode\n",
        "vae.train()\n",
        "\n",
        "train_loss_avg = []\n",
        "\n",
        "print('Training ...')\n",
        "for epoch in range(num_epochs):\n",
        "    train_loss_avg.append(0)\n",
        "    num_batches = 0\n",
        "    \n",
        "    for image_batch, _ in dataloader_train:\n",
        "        \n",
        "        image_batch = image_batch.to(device)\n",
        "\n",
        "        # vae reconstruction\n",
        "        image_batch_recon, latent_mu, latent_logvar = vae(image_batch)\n",
        "        \n",
        "        # reconstruction error\n",
        "        loss = vae_loss(image_batch_recon, image_batch, latent_mu, latent_logvar)\n",
        "        \n",
        "        # backpropagation\n",
        "        optimizer.zero_grad()\n",
        "        loss.backward()\n",
        "        \n",
        "        # one step of the optmizer (using the gradients from backpropagation)\n",
        "        optimizer.step()\n",
        "        \n",
        "        train_loss_avg[-1] += loss.item()\n",
        "        num_batches += 1\n",
        "        \n",
        "    train_loss_avg[-1] /= num_batches\n",
        "    print('Epoch [%d / %d] average reconstruction error: %f' % (epoch+1, num_epochs, train_loss_avg[-1]))"
      ],
      "execution_count": null,
      "outputs": [
        {
          "output_type": "stream",
          "text": [
            "Training ...\n",
            "Epoch [1 / 100] average reconstruction error: 3316156.500000\n",
            "Epoch [2 / 100] average reconstruction error: 3227932.886905\n",
            "Epoch [3 / 100] average reconstruction error: 3143409.672619\n",
            "Epoch [4 / 100] average reconstruction error: 3067079.880952\n",
            "Epoch [5 / 100] average reconstruction error: 2998941.196429\n",
            "Epoch [6 / 100] average reconstruction error: 2932161.767857\n",
            "Epoch [7 / 100] average reconstruction error: 2868755.434524\n",
            "Epoch [8 / 100] average reconstruction error: 2810749.369048\n",
            "Epoch [9 / 100] average reconstruction error: 2753740.589286\n",
            "Epoch [10 / 100] average reconstruction error: 2700309.869048\n",
            "Epoch [11 / 100] average reconstruction error: 2648283.523810\n",
            "Epoch [12 / 100] average reconstruction error: 2599499.571429\n",
            "Epoch [13 / 100] average reconstruction error: 2555055.315476\n",
            "Epoch [14 / 100] average reconstruction error: 2515107.952381\n",
            "Epoch [15 / 100] average reconstruction error: 2472539.434524\n",
            "Epoch [16 / 100] average reconstruction error: 2435179.488095\n",
            "Epoch [17 / 100] average reconstruction error: 2400187.172619\n",
            "Epoch [18 / 100] average reconstruction error: 2366573.827381\n",
            "Epoch [19 / 100] average reconstruction error: 2334505.726190\n",
            "Epoch [20 / 100] average reconstruction error: 2305775.395833\n",
            "Epoch [21 / 100] average reconstruction error: 2276053.714286\n",
            "Epoch [22 / 100] average reconstruction error: 2245346.538690\n",
            "Epoch [23 / 100] average reconstruction error: 2222688.678571\n",
            "Epoch [24 / 100] average reconstruction error: 2200085.318452\n",
            "Epoch [25 / 100] average reconstruction error: 2178810.627976\n",
            "Epoch [26 / 100] average reconstruction error: 2153915.276786\n",
            "Epoch [27 / 100] average reconstruction error: 2130623.687500\n",
            "Epoch [28 / 100] average reconstruction error: 2112180.107143\n",
            "Epoch [29 / 100] average reconstruction error: 2093453.342262\n",
            "Epoch [30 / 100] average reconstruction error: 2074957.449405\n",
            "Epoch [31 / 100] average reconstruction error: 2057202.199405\n",
            "Epoch [32 / 100] average reconstruction error: 2043917.449405\n",
            "Epoch [33 / 100] average reconstruction error: 2028288.497024\n",
            "Epoch [34 / 100] average reconstruction error: 2010906.854167\n",
            "Epoch [35 / 100] average reconstruction error: 1997585.285714\n",
            "Epoch [36 / 100] average reconstruction error: 1985523.806548\n",
            "Epoch [37 / 100] average reconstruction error: 1972392.553571\n",
            "Epoch [38 / 100] average reconstruction error: 1958822.250000\n",
            "Epoch [39 / 100] average reconstruction error: 1944701.550595\n",
            "Epoch [40 / 100] average reconstruction error: 1933769.336310\n",
            "Epoch [41 / 100] average reconstruction error: 1924501.973214\n",
            "Epoch [42 / 100] average reconstruction error: 1910260.776786\n",
            "Epoch [43 / 100] average reconstruction error: 1903968.395833\n",
            "Epoch [44 / 100] average reconstruction error: 1894023.940476\n",
            "Epoch [45 / 100] average reconstruction error: 1883881.267857\n",
            "Epoch [46 / 100] average reconstruction error: 1873005.696429\n",
            "Epoch [47 / 100] average reconstruction error: 1862947.360119\n",
            "Epoch [48 / 100] average reconstruction error: 1856778.095238\n",
            "Epoch [49 / 100] average reconstruction error: 1848357.422619\n",
            "Epoch [50 / 100] average reconstruction error: 1842851.285714\n",
            "Epoch [51 / 100] average reconstruction error: 1834008.294643\n",
            "Epoch [52 / 100] average reconstruction error: 1828731.401786\n",
            "Epoch [53 / 100] average reconstruction error: 1819221.681548\n",
            "Epoch [54 / 100] average reconstruction error: 1815215.755952\n",
            "Epoch [55 / 100] average reconstruction error: 1805648.875000\n",
            "Epoch [56 / 100] average reconstruction error: 1801303.747024\n",
            "Epoch [57 / 100] average reconstruction error: 1795064.925595\n",
            "Epoch [58 / 100] average reconstruction error: 1788486.348214\n",
            "Epoch [59 / 100] average reconstruction error: 1782916.505952\n",
            "Epoch [60 / 100] average reconstruction error: 1778373.910714\n",
            "Epoch [61 / 100] average reconstruction error: 1774093.386905\n",
            "Epoch [62 / 100] average reconstruction error: 1769840.291667\n",
            "Epoch [63 / 100] average reconstruction error: 1763958.333333\n",
            "Epoch [64 / 100] average reconstruction error: 1756606.723214\n",
            "Epoch [65 / 100] average reconstruction error: 1753451.312500\n",
            "Epoch [66 / 100] average reconstruction error: 1748391.610119\n",
            "Epoch [67 / 100] average reconstruction error: 1743722.669643\n",
            "Epoch [68 / 100] average reconstruction error: 1740231.392857\n",
            "Epoch [69 / 100] average reconstruction error: 1737384.110119\n",
            "Epoch [70 / 100] average reconstruction error: 1731735.386905\n",
            "Epoch [71 / 100] average reconstruction error: 1729335.705357\n",
            "Epoch [72 / 100] average reconstruction error: 1725408.985119\n",
            "Epoch [73 / 100] average reconstruction error: 1718715.214286\n",
            "Epoch [74 / 100] average reconstruction error: 1717608.714286\n",
            "Epoch [75 / 100] average reconstruction error: 1717213.857143\n",
            "Epoch [76 / 100] average reconstruction error: 1715151.601190\n",
            "Epoch [77 / 100] average reconstruction error: 1706911.401786\n",
            "Epoch [78 / 100] average reconstruction error: 1705200.866071\n",
            "Epoch [79 / 100] average reconstruction error: 1699782.613095\n",
            "Epoch [80 / 100] average reconstruction error: 1700129.425595\n",
            "Epoch [81 / 100] average reconstruction error: 1696422.830357\n",
            "Epoch [82 / 100] average reconstruction error: 1690684.976190\n",
            "Epoch [83 / 100] average reconstruction error: 1690616.571429\n",
            "Epoch [84 / 100] average reconstruction error: 1687876.258929\n",
            "Epoch [85 / 100] average reconstruction error: 1685409.196429\n",
            "Epoch [86 / 100] average reconstruction error: 1680302.434524\n",
            "Epoch [87 / 100] average reconstruction error: 1677538.657738\n",
            "Epoch [88 / 100] average reconstruction error: 1679116.479167\n",
            "Epoch [89 / 100] average reconstruction error: 1676003.744048\n",
            "Epoch [90 / 100] average reconstruction error: 1672382.261905\n",
            "Epoch [91 / 100] average reconstruction error: 1674377.482143\n",
            "Epoch [92 / 100] average reconstruction error: 1668992.916667\n",
            "Epoch [93 / 100] average reconstruction error: 1667775.693452\n",
            "Epoch [94 / 100] average reconstruction error: 1663397.166667\n",
            "Epoch [95 / 100] average reconstruction error: 1665841.559524\n",
            "Epoch [96 / 100] average reconstruction error: 1659450.101190\n",
            "Epoch [97 / 100] average reconstruction error: 1659256.315476\n",
            "Epoch [98 / 100] average reconstruction error: 1655824.139881\n",
            "Epoch [99 / 100] average reconstruction error: 1655431.648810\n",
            "Epoch [100 / 100] average reconstruction error: 1654672.654762\n"
          ],
          "name": "stdout"
        }
      ]
    },
    {
      "cell_type": "markdown",
      "metadata": {
        "id": "wpQbOCerSIrh"
      },
      "source": [
        "Plot Training Curve"
      ]
    },
    {
      "cell_type": "code",
      "metadata": {
        "colab": {
          "base_uri": "https://localhost:8080/",
          "height": 290
        },
        "id": "oUZ3at3YRkz7",
        "outputId": "6137e297-0424-40cc-dd01-3a0b4ef3e67f"
      },
      "source": [
        "import matplotlib.pyplot as plt\n",
        "plt.ion()\n",
        "\n",
        "fig = plt.figure()\n",
        "plt.plot(train_loss_avg)\n",
        "plt.xlabel('Epochs')\n",
        "plt.ylabel('Loss')\n",
        "plt.show()"
      ],
      "execution_count": null,
      "outputs": [
        {
          "output_type": "display_data",
          "data": {
            "image/png": "[encoded data removed]",
            "text/plain": [
              "<Figure size 432x288 with 1 Axes>"
            ]
          },
          "metadata": {
            "tags": [],
            "needs_background": "light"
          }
        }
      ]
    },
    {
      "cell_type": "markdown",
      "metadata": {
        "id": "vwWEHjJ4SFmY"
      },
      "source": [
        "Evaluate on the Test Set"
      ]
    },
    {
      "cell_type": "code",
      "metadata": {
        "colab": {
          "base_uri": "https://localhost:8080/"
        },
        "id": "w32Np7L_Rq1o",
        "outputId": "94f3e06a-7368-40e3-ff81-6246eeddff88"
      },
      "source": [
        "# set to evaluation mode\n",
        "vae.eval()\n",
        "\n",
        "test_loss_avg, num_batches = 0, 0\n",
        "for image_batch, _ in dataloader_test:\n",
        "    \n",
        "    with torch.no_grad():\n",
        "    \n",
        "        image_batch = image_batch.to(device)\n",
        "\n",
        "        # vae reconstruction\n",
        "        image_batch_recon, latent_mu, latent_logvar = vae(image_batch)\n",
        "\n",
        "        # reconstruction error\n",
        "        loss = vae_loss(image_batch_recon, image_batch, latent_mu, latent_logvar)\n",
        "\n",
        "        test_loss_avg += loss.item()\n",
        "        num_batches += 1\n",
        "    \n",
        "test_loss_avg /= num_batches\n",
        "print('average reconstruction error: %f' % (test_loss_avg))"
      ],
      "execution_count": null,
      "outputs": [
        {
          "output_type": "stream",
          "text": [
            "Exception ignored in: <bound method _MultiProcessingDataLoaderIter.__del__ of <torch.utils.data.dataloader._MultiProcessingDataLoaderIter object at 0x7fcc75330ba8>>\n",
            "Traceback (most recent call last):\n",
            "  File \"/usr/local/lib/python3.6/dist-packages/torch/utils/data/dataloader.py\", line 1203, in __del__\n",
            "    self._shutdown_workers()\n",
            "  File \"/usr/local/lib/python3.6/dist-packages/torch/utils/data/dataloader.py\", line 1177, in _shutdown_workers\n",
            "    w.join(timeout=_utils.MP_STATUS_CHECK_INTERVAL)\n",
            "  File \"/usr/lib/python3.6/multiprocessing/process.py\", line 122, in join\n",
            "Exception ignored in: <bound method _MultiProcessingDataLoaderIter.__del__ of <torch.utils.data.dataloader._MultiProcessingDataLoaderIter object at 0x7fcc75330ba8>>\n",
            "    assert self._parent_pid == os.getpid(), 'can only join a child process'\n",
            "Traceback (most recent call last):\n",
            "AssertionError: can only join a child process\n",
            "  File \"/usr/local/lib/python3.6/dist-packages/torch/utils/data/dataloader.py\", line 1203, in __del__\n",
            "    self._shutdown_workers()\n",
            "  File \"/usr/local/lib/python3.6/dist-packages/torch/utils/data/dataloader.py\", line 1177, in _shutdown_workers\n",
            "    w.join(timeout=_utils.MP_STATUS_CHECK_INTERVAL)\n",
            "Exception ignored in: <bound method _MultiProcessingDataLoaderIter.__del__ of <torch.utils.data.dataloader._MultiProcessingDataLoaderIter object at 0x7fcbdab48b38>>\n",
            "  File \"/usr/lib/python3.6/multiprocessing/process.py\", line 122, in join\n",
            "Traceback (most recent call last):\n",
            "    assert self._parent_pid == os.getpid(), 'can only join a child process'\n",
            "  File \"/usr/local/lib/python3.6/dist-packages/torch/utils/data/dataloader.py\", line 1203, in __del__\n",
            "    self._shutdown_workers()\n",
            "AssertionError: can only join a child process\n",
            "  File \"/usr/local/lib/python3.6/dist-packages/torch/utils/data/dataloader.py\", line 1177, in _shutdown_workers\n",
            "    w.join(timeout=_utils.MP_STATUS_CHECK_INTERVAL)\n",
            "  File \"/usr/lib/python3.6/multiprocessing/process.py\", line 122, in join\n",
            "    assert self._parent_pid == os.getpid(), 'can only join a child process'\n",
            "Exception ignored in: <bound method _MultiProcessingDataLoaderIter.__del__ of <torch.utils.data.dataloader._MultiProcessingDataLoaderIter object at 0x7fcbdab48b38>>\n",
            "AssertionError: can only join a child process\n",
            "Traceback (most recent call last):\n",
            "  File \"/usr/local/lib/python3.6/dist-packages/torch/utils/data/dataloader.py\", line 1203, in __del__\n",
            "    self._shutdown_workers()\n",
            "  File \"/usr/local/lib/python3.6/dist-packages/torch/utils/data/dataloader.py\", line 1177, in _shutdown_workers\n",
            "    w.join(timeout=_utils.MP_STATUS_CHECK_INTERVAL)\n",
            "  File \"/usr/lib/python3.6/multiprocessing/process.py\", line 122, in join\n",
            "    assert self._parent_pid == os.getpid(), 'can only join a child process'\n",
            "AssertionError: can only join a child process\n",
            "Exception ignored in: <bound method _MultiProcessingDataLoaderIter.__del__ of <torch.utils.data.dataloader._MultiProcessingDataLoaderIter object at 0x7fcc75330ba8>>\n",
            "Traceback (most recent call last):\n",
            "  File \"/usr/local/lib/python3.6/dist-packages/torch/utils/data/dataloader.py\", line 1203, in __del__\n",
            "    self._shutdown_workers()\n",
            "  File \"/usr/local/lib/python3.6/dist-packages/torch/utils/data/dataloader.py\", line 1177, in _shutdown_workers\n",
            "    w.join(timeout=_utils.MP_STATUS_CHECK_INTERVAL)\n",
            "  File \"/usr/lib/python3.6/multiprocessing/process.py\", line 122, in join\n",
            "    assert self._parent_pid == os.getpid(), 'can only join a child process'\n",
            "Exception ignored in: <bound method _MultiProcessingDataLoaderIter.__del__ of <torch.utils.data.dataloader._MultiProcessingDataLoaderIter object at 0x7fcc75330ba8>>\n",
            "AssertionError: can only join a child process\n",
            "Traceback (most recent call last):\n",
            "  File \"/usr/local/lib/python3.6/dist-packages/torch/utils/data/dataloader.py\", line 1203, in __del__\n",
            "    self._shutdown_workers()\n",
            "Exception ignored in: <bound method _MultiProcessingDataLoaderIter.__del__ of <torch.utils.data.dataloader._MultiProcessingDataLoaderIter object at 0x7fcbdab48b38>>\n",
            "  File \"/usr/local/lib/python3.6/dist-packages/torch/utils/data/dataloader.py\", line 1177, in _shutdown_workers\n",
            "Traceback (most recent call last):\n",
            "    w.join(timeout=_utils.MP_STATUS_CHECK_INTERVAL)\n",
            "  File \"/usr/local/lib/python3.6/dist-packages/torch/utils/data/dataloader.py\", line 1203, in __del__\n",
            "    self._shutdown_workers()\n",
            "  File \"/usr/lib/python3.6/multiprocessing/process.py\", line 122, in join\n",
            "  File \"/usr/local/lib/python3.6/dist-packages/torch/utils/data/dataloader.py\", line 1177, in _shutdown_workers\n",
            "    assert self._parent_pid == os.getpid(), 'can only join a child process'\n",
            "AssertionError: can only join a child process\n",
            "    w.join(timeout=_utils.MP_STATUS_CHECK_INTERVAL)\n",
            "  File \"/usr/lib/python3.6/multiprocessing/process.py\", line 122, in join\n",
            "Exception ignored in: <bound method _MultiProcessingDataLoaderIter.__del__ of <torch.utils.data.dataloader._MultiProcessingDataLoaderIter object at 0x7fcbdab48b38>>\n",
            "Traceback (most recent call last):\n",
            "  File \"/usr/local/lib/python3.6/dist-packages/torch/utils/data/dataloader.py\", line 1203, in __del__\n",
            "    self._shutdown_workers()\n",
            "    assert self._parent_pid == os.getpid(), 'can only join a child process'\n",
            "AssertionError: can only join a child process\n",
            "  File \"/usr/local/lib/python3.6/dist-packages/torch/utils/data/dataloader.py\", line 1177, in _shutdown_workers\n",
            "    w.join(timeout=_utils.MP_STATUS_CHECK_INTERVAL)\n",
            "  File \"/usr/lib/python3.6/multiprocessing/process.py\", line 122, in join\n",
            "    assert self._parent_pid == os.getpid(), 'can only join a child process'\n",
            "AssertionError: can only join a child process\n"
          ],
          "name": "stderr"
        },
        {
          "output_type": "stream",
          "text": [
            "average reconstruction error: 25514.449980\n"
          ],
          "name": "stdout"
        }
      ]
    },
    {
      "cell_type": "code",
      "metadata": {
        "colab": {
          "base_uri": "https://localhost:8080/"
        },
        "id": "eX61fsE3dBdF",
        "outputId": "efabfd94-1af7-4573-d76e-9a41f7aab473"
      },
      "source": [
        "device"
      ],
      "execution_count": null,
      "outputs": [
        {
          "output_type": "execute_result",
          "data": {
            "text/plain": [
              "device(type='cuda', index=0)"
            ]
          },
          "metadata": {
            "tags": []
          },
          "execution_count": 52
        }
      ]
    },
    {
      "cell_type": "markdown",
      "metadata": {
        "id": "_vdQkC8OSCJo"
      },
      "source": [
        "Visualize Reconstructions"
      ]
    },
    {
      "cell_type": "code",
      "metadata": {
        "id": "GIq7g5bZR7y9"
      },
      "source": [
        "import numpy as np\n",
        "import matplotlib.pyplot as plt\n",
        "plt.ion()\n",
        "\n",
        "import torchvision.utils\n",
        "\n",
        "vae.eval()\n",
        "\n",
        "# This function takes as an input the images to reconstruct\n",
        "# and the name of the model with which the reconstructions\n",
        "# are performed\n",
        "def to_img(x):\n",
        "    x = x.clamp(0, 1)\n",
        "    return x\n",
        "\n",
        "def show_image(img):\n",
        "    img = to_img(img)\n",
        "    npimg = img.numpy()\n",
        "    plt.imshow(np.transpose(npimg, (1, 2, 0)))\n",
        "\n",
        "def visualise_output(images, model):\n",
        "\n",
        "    with torch.no_grad():\n",
        "    \n",
        "        images = images.to(device)\n",
        "        images, _, _ = model(images)\n",
        "        images = images.cpu()\n",
        "        images = to_img(images)\n",
        "        np_imagegrid = torchvision.utils.make_grid(images[1:50], 10, 5).numpy()\n",
        "        plt.imshow(np.transpose(np_imagegrid, (1, 2, 0)))\n",
        "        plt.show()\n",
        "\n",
        "images, labels = iter(dataloader_test).next()\n",
        "\n",
        "# First visualise the original images\n",
        "print('Original images')\n",
        "show_image(torchvision.utils.make_grid(images[1:50],10,5))\n",
        "plt.show()\n",
        "\n",
        "# Reconstruct and visualise the images using the vae\n",
        "print('VAE reconstruction:')\n",
        "visualise_output(images, vae)"
      ],
      "execution_count": null,
      "outputs": []
    },
    {
      "cell_type": "code",
      "metadata": {
        "id": "K5r9alXSE-UD"
      },
      "source": [
        "#%debug\n"
      ],
      "execution_count": null,
      "outputs": []
    }
  ]
}